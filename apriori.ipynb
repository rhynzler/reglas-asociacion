{
 "cells": [
  {
   "cell_type": "markdown",
   "metadata": {},
   "source": [
    "# Ejercicio 1\n",
    "\n",
    "## Ejercicio 1.1  Ejecutar y analizar el siguiente código"
   ]
  },
  {
   "cell_type": "code",
   "execution_count": 1,
   "metadata": {},
   "outputs": [],
   "source": [
    "#imports\n",
    "import pandas as pd\n",
    "import numpy as np\n",
    "import seaborn as sns\n",
    "import matplotlib.pyplot as plt\n",
    "import plotly.express as px\n",
    "from pandas.api.types import CategoricalDtype\n",
    "from mlxtend.frequent_patterns import apriori\n",
    "from mlxtend.frequent_patterns import association_rules\n",
    "from datetime import datetime\n",
    "#Suppress warnings\n",
    "import warnings\n",
    "warnings.filterwarnings('ignore')\n",
    "\n"
   ]
  },
  {
   "cell_type": "code",
   "execution_count": 2,
   "metadata": {},
   "outputs": [
    {
     "data": {
      "text/html": [
       "<div>\n",
       "<style scoped>\n",
       "    .dataframe tbody tr th:only-of-type {\n",
       "        vertical-align: middle;\n",
       "    }\n",
       "\n",
       "    .dataframe tbody tr th {\n",
       "        vertical-align: top;\n",
       "    }\n",
       "\n",
       "    .dataframe thead th {\n",
       "        text-align: right;\n",
       "    }\n",
       "</style>\n",
       "<table border=\"1\" class=\"dataframe\">\n",
       "  <thead>\n",
       "    <tr style=\"text-align: right;\">\n",
       "      <th></th>\n",
       "      <th>Member_number</th>\n",
       "      <th>Date</th>\n",
       "      <th>itemDescription</th>\n",
       "    </tr>\n",
       "  </thead>\n",
       "  <tbody>\n",
       "    <tr>\n",
       "      <th>0</th>\n",
       "      <td>1808</td>\n",
       "      <td>21-07-2015</td>\n",
       "      <td>tropical fruit</td>\n",
       "    </tr>\n",
       "    <tr>\n",
       "      <th>1</th>\n",
       "      <td>2552</td>\n",
       "      <td>05-01-2015</td>\n",
       "      <td>whole milk</td>\n",
       "    </tr>\n",
       "    <tr>\n",
       "      <th>2</th>\n",
       "      <td>2300</td>\n",
       "      <td>19-09-2015</td>\n",
       "      <td>pip fruit</td>\n",
       "    </tr>\n",
       "    <tr>\n",
       "      <th>3</th>\n",
       "      <td>1187</td>\n",
       "      <td>12-12-2015</td>\n",
       "      <td>other vegetables</td>\n",
       "    </tr>\n",
       "    <tr>\n",
       "      <th>4</th>\n",
       "      <td>3037</td>\n",
       "      <td>01-02-2015</td>\n",
       "      <td>whole milk</td>\n",
       "    </tr>\n",
       "  </tbody>\n",
       "</table>\n",
       "</div>"
      ],
      "text/plain": [
       "   Member_number        Date   itemDescription\n",
       "0           1808  21-07-2015    tropical fruit\n",
       "1           2552  05-01-2015        whole milk\n",
       "2           2300  19-09-2015         pip fruit\n",
       "3           1187  12-12-2015  other vegetables\n",
       "4           3037  01-02-2015        whole milk"
      ]
     },
     "execution_count": 2,
     "metadata": {},
     "output_type": "execute_result"
    }
   ],
   "source": [
    "data = pd.read_csv('Groceries_dataset.csv')\n",
    "\n",
    "data.head()"
   ]
  },
  {
   "cell_type": "code",
   "execution_count": 3,
   "metadata": {},
   "outputs": [
    {
     "data": {
      "text/html": [
       "<div>\n",
       "<style scoped>\n",
       "    .dataframe tbody tr th:only-of-type {\n",
       "        vertical-align: middle;\n",
       "    }\n",
       "\n",
       "    .dataframe tbody tr th {\n",
       "        vertical-align: top;\n",
       "    }\n",
       "\n",
       "    .dataframe thead th {\n",
       "        text-align: right;\n",
       "    }\n",
       "</style>\n",
       "<table border=\"1\" class=\"dataframe\">\n",
       "  <thead>\n",
       "    <tr style=\"text-align: right;\">\n",
       "      <th></th>\n",
       "      <th>Member_number</th>\n",
       "      <th>Date</th>\n",
       "      <th>itemDescription</th>\n",
       "      <th>Day</th>\n",
       "      <th>Month</th>\n",
       "      <th>Year</th>\n",
       "      <th>day_of_week</th>\n",
       "      <th>weekday_weekend</th>\n",
       "    </tr>\n",
       "  </thead>\n",
       "  <tbody>\n",
       "    <tr>\n",
       "      <th>0</th>\n",
       "      <td>1808</td>\n",
       "      <td>2015-07-21</td>\n",
       "      <td>tropical fruit</td>\n",
       "      <td>21</td>\n",
       "      <td>Jul</td>\n",
       "      <td>2015</td>\n",
       "      <td>Tuesday</td>\n",
       "      <td>weekday</td>\n",
       "    </tr>\n",
       "    <tr>\n",
       "      <th>1</th>\n",
       "      <td>2552</td>\n",
       "      <td>2015-01-05</td>\n",
       "      <td>whole milk</td>\n",
       "      <td>05</td>\n",
       "      <td>Jan</td>\n",
       "      <td>2015</td>\n",
       "      <td>Monday</td>\n",
       "      <td>weekday</td>\n",
       "    </tr>\n",
       "    <tr>\n",
       "      <th>2</th>\n",
       "      <td>2300</td>\n",
       "      <td>2015-09-19</td>\n",
       "      <td>pip fruit</td>\n",
       "      <td>19</td>\n",
       "      <td>Sep</td>\n",
       "      <td>2015</td>\n",
       "      <td>Saturday</td>\n",
       "      <td>weekend</td>\n",
       "    </tr>\n",
       "    <tr>\n",
       "      <th>3</th>\n",
       "      <td>1187</td>\n",
       "      <td>2015-12-12</td>\n",
       "      <td>other vegetables</td>\n",
       "      <td>12</td>\n",
       "      <td>Dec</td>\n",
       "      <td>2015</td>\n",
       "      <td>Saturday</td>\n",
       "      <td>weekend</td>\n",
       "    </tr>\n",
       "    <tr>\n",
       "      <th>4</th>\n",
       "      <td>3037</td>\n",
       "      <td>2015-02-01</td>\n",
       "      <td>whole milk</td>\n",
       "      <td>01</td>\n",
       "      <td>Feb</td>\n",
       "      <td>2015</td>\n",
       "      <td>Sunday</td>\n",
       "      <td>weekend</td>\n",
       "    </tr>\n",
       "    <tr>\n",
       "      <th>...</th>\n",
       "      <td>...</td>\n",
       "      <td>...</td>\n",
       "      <td>...</td>\n",
       "      <td>...</td>\n",
       "      <td>...</td>\n",
       "      <td>...</td>\n",
       "      <td>...</td>\n",
       "      <td>...</td>\n",
       "    </tr>\n",
       "    <tr>\n",
       "      <th>38760</th>\n",
       "      <td>4471</td>\n",
       "      <td>2014-10-08</td>\n",
       "      <td>sliced cheese</td>\n",
       "      <td>08</td>\n",
       "      <td>Oct</td>\n",
       "      <td>2014</td>\n",
       "      <td>Wednesday</td>\n",
       "      <td>weekday</td>\n",
       "    </tr>\n",
       "    <tr>\n",
       "      <th>38761</th>\n",
       "      <td>2022</td>\n",
       "      <td>2014-02-23</td>\n",
       "      <td>candy</td>\n",
       "      <td>23</td>\n",
       "      <td>Feb</td>\n",
       "      <td>2014</td>\n",
       "      <td>Sunday</td>\n",
       "      <td>weekend</td>\n",
       "    </tr>\n",
       "    <tr>\n",
       "      <th>38762</th>\n",
       "      <td>1097</td>\n",
       "      <td>2014-04-16</td>\n",
       "      <td>cake bar</td>\n",
       "      <td>16</td>\n",
       "      <td>Apr</td>\n",
       "      <td>2014</td>\n",
       "      <td>Wednesday</td>\n",
       "      <td>weekday</td>\n",
       "    </tr>\n",
       "    <tr>\n",
       "      <th>38763</th>\n",
       "      <td>1510</td>\n",
       "      <td>2014-12-03</td>\n",
       "      <td>fruit/vegetable juice</td>\n",
       "      <td>03</td>\n",
       "      <td>Dec</td>\n",
       "      <td>2014</td>\n",
       "      <td>Wednesday</td>\n",
       "      <td>weekday</td>\n",
       "    </tr>\n",
       "    <tr>\n",
       "      <th>38764</th>\n",
       "      <td>1521</td>\n",
       "      <td>2014-12-26</td>\n",
       "      <td>cat food</td>\n",
       "      <td>26</td>\n",
       "      <td>Dec</td>\n",
       "      <td>2014</td>\n",
       "      <td>Friday</td>\n",
       "      <td>weekday</td>\n",
       "    </tr>\n",
       "  </tbody>\n",
       "</table>\n",
       "<p>38765 rows × 8 columns</p>\n",
       "</div>"
      ],
      "text/plain": [
       "       Member_number       Date        itemDescription Day Month  Year  \\\n",
       "0               1808 2015-07-21         tropical fruit  21   Jul  2015   \n",
       "1               2552 2015-01-05             whole milk  05   Jan  2015   \n",
       "2               2300 2015-09-19              pip fruit  19   Sep  2015   \n",
       "3               1187 2015-12-12       other vegetables  12   Dec  2015   \n",
       "4               3037 2015-02-01             whole milk  01   Feb  2015   \n",
       "...              ...        ...                    ...  ..   ...   ...   \n",
       "38760           4471 2014-10-08          sliced cheese  08   Oct  2014   \n",
       "38761           2022 2014-02-23                  candy  23   Feb  2014   \n",
       "38762           1097 2014-04-16               cake bar  16   Apr  2014   \n",
       "38763           1510 2014-12-03  fruit/vegetable juice  03   Dec  2014   \n",
       "38764           1521 2014-12-26               cat food  26   Dec  2014   \n",
       "\n",
       "      day_of_week weekday_weekend  \n",
       "0         Tuesday         weekday  \n",
       "1          Monday         weekday  \n",
       "2        Saturday         weekend  \n",
       "3        Saturday         weekend  \n",
       "4          Sunday         weekend  \n",
       "...           ...             ...  \n",
       "38760   Wednesday         weekday  \n",
       "38761      Sunday         weekend  \n",
       "38762   Wednesday         weekday  \n",
       "38763   Wednesday         weekday  \n",
       "38764      Friday         weekday  \n",
       "\n",
       "[38765 rows x 8 columns]"
      ]
     },
     "execution_count": 3,
     "metadata": {},
     "output_type": "execute_result"
    }
   ],
   "source": [
    "# se crean nuevas columnas con información de fechas\n",
    "\n",
    "spliting = data['Date'].str.split(pat = '-', expand = True)\n",
    "data['Day'] = spliting[0]\n",
    "data['Month'] = spliting[1]\n",
    "data['Year'] = spliting[2]\n",
    "\n",
    "# cambiando el formato de fecha\n",
    "look_up = {'01': 'Jan', '02': 'Feb', '03': 'Mar', '04': 'Apr', '05': 'May',\n",
    "           '06': 'Jun', '07': 'Jul', '08': 'Aug', '09': 'Sep', '10': 'Oct', '11': 'Nov', '12': 'Dec'}\n",
    "\n",
    "data['Month'] = data['Month'].apply(lambda x: look_up[x])\n",
    "\n",
    "date_format = '%d-%m-%Y'\n",
    "\n",
    "# conversión de la fecha a datetime\n",
    "data['Date'] = pd.to_datetime(data['Date'], format=date_format)\n",
    "data['day_of_week'] = data['Date'].dt.strftime('%A')\n",
    "\n",
    "# día de la semana\n",
    "data['weekday_weekend'] = data['day_of_week'].map(lambda x: 'weekend' if x in ['Saturday', 'Sunday'] else 'weekday')\n",
    "\n",
    "data"
   ]
  },
  {
   "cell_type": "markdown",
   "metadata": {},
   "source": [
    "## Ejercicio 1.2 Análisis Descriptivo\n",
    "\n",
    "En base al dataset, crear código para responder a las siguientes preguntas:\n",
    "\n",
    "1. ¿Cuales son los items que más aparecen en el dataset?\n",
    "2. Crear una serie de tiempo con la cantidad de items vendidos mensualmente \n",
    "3. Cantidad total de items vendidos por año"
   ]
  },
  {
   "cell_type": "code",
   "execution_count": 4,
   "metadata": {},
   "outputs": [],
   "source": [
    "# inserte su código aquí\n",
    "\n"
   ]
  },
  {
   "cell_type": "markdown",
   "metadata": {},
   "source": [
    "## Ejercicio 1.3 Apriori\n",
    "\n",
    "Ejecutar y analizar el siguiente código. Adicionalmente investigar el concepto de `lift` en el contexto del algoritmo `Apriori`"
   ]
  },
  {
   "cell_type": "code",
   "execution_count": 5,
   "metadata": {},
   "outputs": [],
   "source": [
    "# Transformar los datos en un formato que entienda la función apriori\n",
    "basket = data.groupby(['Member_number', 'itemDescription'])['itemDescription'].count().unstack().reset_index().fillna(0).set_index('Member_number')\n",
    "\n",
    "# cada elemento tendrá 1: existe, 0: no existe\n",
    "def encode_units(x):\n",
    "    return 1 if x >= 1 else 0\n",
    "\n",
    "basket = basket.applymap(encode_units)"
   ]
  },
  {
   "cell_type": "code",
   "execution_count": 9,
   "metadata": {},
   "outputs": [
    {
     "data": {
      "text/html": [
       "<table border=\"1\" class=\"dataframe\">\n",
       "  <thead>\n",
       "    <tr style=\"text-align: right;\">\n",
       "      <th>antecedents</th>\n",
       "      <th>consequents</th>\n",
       "      <th>support</th>\n",
       "      <th>confidence</th>\n",
       "      <th>lift</th>\n",
       "    </tr>\n",
       "  </thead>\n",
       "  <tbody>\n",
       "    <tr>\n",
       "      <td>whole milk, other vegetables</td>\n",
       "      <td>rolls/buns</td>\n",
       "      <td>0.08</td>\n",
       "      <td>0.43</td>\n",
       "      <td>1.23</td>\n",
       "    </tr>\n",
       "    <tr>\n",
       "      <td>rolls/buns</td>\n",
       "      <td>whole milk, other vegetables</td>\n",
       "      <td>0.08</td>\n",
       "      <td>0.23</td>\n",
       "      <td>1.23</td>\n",
       "    </tr>\n",
       "    <tr>\n",
       "      <td>rolls/buns, other vegetables</td>\n",
       "      <td>whole milk</td>\n",
       "      <td>0.08</td>\n",
       "      <td>0.56</td>\n",
       "      <td>1.22</td>\n",
       "    </tr>\n",
       "    <tr>\n",
       "      <td>whole milk</td>\n",
       "      <td>rolls/buns, other vegetables</td>\n",
       "      <td>0.08</td>\n",
       "      <td>0.18</td>\n",
       "      <td>1.22</td>\n",
       "    </tr>\n",
       "    <tr>\n",
       "      <td>other vegetables</td>\n",
       "      <td>rolls/buns, whole milk</td>\n",
       "      <td>0.08</td>\n",
       "      <td>0.22</td>\n",
       "      <td>1.22</td>\n",
       "    </tr>\n",
       "    <tr>\n",
       "      <td>rolls/buns, whole milk</td>\n",
       "      <td>other vegetables</td>\n",
       "      <td>0.08</td>\n",
       "      <td>0.46</td>\n",
       "      <td>1.22</td>\n",
       "    </tr>\n",
       "    <tr>\n",
       "      <td>sausage</td>\n",
       "      <td>other vegetables</td>\n",
       "      <td>0.09</td>\n",
       "      <td>0.45</td>\n",
       "      <td>1.20</td>\n",
       "    </tr>\n",
       "    <tr>\n",
       "      <td>other vegetables</td>\n",
       "      <td>sausage</td>\n",
       "      <td>0.09</td>\n",
       "      <td>0.25</td>\n",
       "      <td>1.20</td>\n",
       "    </tr>\n",
       "    <tr>\n",
       "      <td>whole milk</td>\n",
       "      <td>shopping bags</td>\n",
       "      <td>0.09</td>\n",
       "      <td>0.20</td>\n",
       "      <td>1.18</td>\n",
       "    </tr>\n",
       "    <tr>\n",
       "      <td>shopping bags</td>\n",
       "      <td>whole milk</td>\n",
       "      <td>0.09</td>\n",
       "      <td>0.54</td>\n",
       "      <td>1.18</td>\n",
       "    </tr>\n",
       "    <tr>\n",
       "      <td>whole milk</td>\n",
       "      <td>bottled beer</td>\n",
       "      <td>0.09</td>\n",
       "      <td>0.19</td>\n",
       "      <td>1.17</td>\n",
       "    </tr>\n",
       "    <tr>\n",
       "      <td>bottled beer</td>\n",
       "      <td>whole milk</td>\n",
       "      <td>0.09</td>\n",
       "      <td>0.54</td>\n",
       "      <td>1.17</td>\n",
       "    </tr>\n",
       "    <tr>\n",
       "      <td>bottled water</td>\n",
       "      <td>other vegetables</td>\n",
       "      <td>0.09</td>\n",
       "      <td>0.44</td>\n",
       "      <td>1.17</td>\n",
       "    </tr>\n",
       "    <tr>\n",
       "      <td>other vegetables</td>\n",
       "      <td>bottled water</td>\n",
       "      <td>0.09</td>\n",
       "      <td>0.25</td>\n",
       "      <td>1.17</td>\n",
       "    </tr>\n",
       "    <tr>\n",
       "      <td>yogurt</td>\n",
       "      <td>whole milk</td>\n",
       "      <td>0.15</td>\n",
       "      <td>0.53</td>\n",
       "      <td>1.16</td>\n",
       "    </tr>\n",
       "  </tbody>\n",
       "</table>"
      ],
      "text/plain": [
       "<IPython.core.display.HTML object>"
      ]
     },
     "metadata": {},
     "output_type": "display_data"
    }
   ],
   "source": [
    "# se ejecuta la función apriori\n",
    "frequent_itemsets = apriori(basket, min_support=0.08, use_colnames=True)\n",
    "\n",
    "# Se generan las reglas de asociación en base a los resultados previos\n",
    "rules = association_rules(frequent_itemsets, metric=\"lift\", min_threshold=1)\n",
    "\n",
    "# las 15 reglas de asociación principales\n",
    "top_rules = rules.sort_values(by='lift', ascending=False).head(15)\n",
    "\n",
    "# Se convierten los antecedentes y concecuentes para poder mostrar\n",
    "top_rules['antecedents'] = top_rules['antecedents'].apply(lambda x: ', '.join(list(x)))\n",
    "top_rules['consequents'] = top_rules['consequents'].apply(lambda x: ', '.join(list(x)))\n",
    "\n",
    "# Se crea la tabla de resultados\n",
    "top_rules_table = top_rules[['antecedents', 'consequents', 'support', 'confidence', 'lift']].round(2)\n",
    "\n",
    "# Se muestra la tabla con formato\n",
    "from IPython.display import display, HTML\n",
    "display(HTML(top_rules_table.to_html(index=False)))\n"
   ]
  },
  {
   "cell_type": "code",
   "execution_count": 10,
   "metadata": {},
   "outputs": [
    {
     "data": {
      "application/vnd.plotly.v1+json": {
       "config": {
        "plotlyServerURL": "https://plot.ly"
       },
       "data": [
        {
         "customdata": [
          [
           "whole milk, other vegetables",
           "rolls/buns"
          ],
          [
           "rolls/buns",
           "whole milk, other vegetables"
          ],
          [
           "rolls/buns, other vegetables",
           "whole milk"
          ],
          [
           "whole milk",
           "rolls/buns, other vegetables"
          ],
          [
           "other vegetables",
           "rolls/buns, whole milk"
          ],
          [
           "rolls/buns, whole milk",
           "other vegetables"
          ],
          [
           "sausage",
           "other vegetables"
          ],
          [
           "other vegetables",
           "sausage"
          ],
          [
           "whole milk",
           "shopping bags"
          ],
          [
           "shopping bags",
           "whole milk"
          ],
          [
           "whole milk",
           "bottled beer"
          ],
          [
           "bottled beer",
           "whole milk"
          ],
          [
           "bottled water",
           "other vegetables"
          ],
          [
           "other vegetables",
           "bottled water"
          ],
          [
           "yogurt",
           "whole milk"
          ]
         ],
         "hovertemplate": "Support=%{x}<br>Confidence=%{y}<br>Lift=%{marker.color}<br>antecedents=%{customdata[0]}<br>consequents=%{customdata[1]}<extra></extra>",
         "legendgroup": "",
         "marker": {
          "color": [
           1.2267530030546874,
           1.2267530030546874,
           1.2209962489917698,
           1.2209962489917696,
           1.2208337248269598,
           1.2208337248269598,
           1.1970403900902948,
           1.1970403900902946,
           1.1844221997651108,
           1.1844221997651108,
           1.174123997995539,
           1.174123997995539,
           1.1666802960966403,
           1.1666802960966403,
           1.1615100423460805
          ],
          "coloraxis": "coloraxis",
          "line": {
           "color": "DarkSlateGrey",
           "width": 1
          },
          "size": [
           1.2267530030546874,
           1.2267530030546874,
           1.2209962489917698,
           1.2209962489917696,
           1.2208337248269598,
           1.2208337248269598,
           1.1970403900902948,
           1.1970403900902946,
           1.1844221997651108,
           1.1844221997651108,
           1.174123997995539,
           1.174123997995539,
           1.1666802960966403,
           1.1666802960966403,
           1.1615100423460805
          ],
          "sizemode": "area",
          "sizeref": 0.0030668825076367186,
          "symbol": "circle"
         },
         "mode": "markers",
         "name": "",
         "orientation": "v",
         "showlegend": false,
         "type": "scatter",
         "x": [
          0.08209338122113904,
          0.08209338122113904,
          0.08209338122113904,
          0.08209338122113904,
          0.08209338122113904,
          0.08209338122113904,
          0.09286813750641354,
          0.09286813750641354,
          0.09132888660851719,
          0.09132888660851719,
          0.08542842483324782,
          0.08542842483324782,
          0.09389430477167779,
          0.09389430477167779,
          0.15059004617752694
         ],
         "xaxis": "x",
         "y": [
          0.42895442359249325,
          0.2347762289068232,
          0.5594405594405595,
          0.1791713325867861,
          0.21798365122615804,
          0.45977011494252873,
          0.4508094645080946,
          0.24659400544959126,
          0.19932810750279956,
          0.5426829268292683,
          0.1864501679731243,
          0.5379644588045235,
          0.43937575030012005,
          0.24931880108991827,
          0.5321849501359928
         ],
         "yaxis": "y"
        }
       ],
       "layout": {
        "annotations": [
         {
          "font": {
           "color": "black",
           "size": 12
          },
          "showarrow": false,
          "text": "Hover over points to see itemset information",
          "x": 0.5,
          "xref": "paper",
          "y": 1.05,
          "yref": "paper"
         }
        ],
        "coloraxis": {
         "colorbar": {
          "title": {
           "text": "Lift"
          }
         },
         "colorscale": [
          [
           0,
           "#0d0887"
          ],
          [
           0.1111111111111111,
           "#46039f"
          ],
          [
           0.2222222222222222,
           "#7201a8"
          ],
          [
           0.3333333333333333,
           "#9c179e"
          ],
          [
           0.4444444444444444,
           "#bd3786"
          ],
          [
           0.5555555555555556,
           "#d8576b"
          ],
          [
           0.6666666666666666,
           "#ed7953"
          ],
          [
           0.7777777777777778,
           "#fb9f3a"
          ],
          [
           0.8888888888888888,
           "#fdca26"
          ],
          [
           1,
           "#f0f921"
          ]
         ]
        },
        "height": 900,
        "legend": {
         "itemsizing": "constant",
         "tracegroupgap": 0
        },
        "template": {
         "data": {
          "bar": [
           {
            "error_x": {
             "color": "#2a3f5f"
            },
            "error_y": {
             "color": "#2a3f5f"
            },
            "marker": {
             "line": {
              "color": "#E5ECF6",
              "width": 0.5
             },
             "pattern": {
              "fillmode": "overlay",
              "size": 10,
              "solidity": 0.2
             }
            },
            "type": "bar"
           }
          ],
          "barpolar": [
           {
            "marker": {
             "line": {
              "color": "#E5ECF6",
              "width": 0.5
             },
             "pattern": {
              "fillmode": "overlay",
              "size": 10,
              "solidity": 0.2
             }
            },
            "type": "barpolar"
           }
          ],
          "carpet": [
           {
            "aaxis": {
             "endlinecolor": "#2a3f5f",
             "gridcolor": "white",
             "linecolor": "white",
             "minorgridcolor": "white",
             "startlinecolor": "#2a3f5f"
            },
            "baxis": {
             "endlinecolor": "#2a3f5f",
             "gridcolor": "white",
             "linecolor": "white",
             "minorgridcolor": "white",
             "startlinecolor": "#2a3f5f"
            },
            "type": "carpet"
           }
          ],
          "choropleth": [
           {
            "colorbar": {
             "outlinewidth": 0,
             "ticks": ""
            },
            "type": "choropleth"
           }
          ],
          "contour": [
           {
            "colorbar": {
             "outlinewidth": 0,
             "ticks": ""
            },
            "colorscale": [
             [
              0,
              "#0d0887"
             ],
             [
              0.1111111111111111,
              "#46039f"
             ],
             [
              0.2222222222222222,
              "#7201a8"
             ],
             [
              0.3333333333333333,
              "#9c179e"
             ],
             [
              0.4444444444444444,
              "#bd3786"
             ],
             [
              0.5555555555555556,
              "#d8576b"
             ],
             [
              0.6666666666666666,
              "#ed7953"
             ],
             [
              0.7777777777777778,
              "#fb9f3a"
             ],
             [
              0.8888888888888888,
              "#fdca26"
             ],
             [
              1,
              "#f0f921"
             ]
            ],
            "type": "contour"
           }
          ],
          "contourcarpet": [
           {
            "colorbar": {
             "outlinewidth": 0,
             "ticks": ""
            },
            "type": "contourcarpet"
           }
          ],
          "heatmap": [
           {
            "colorbar": {
             "outlinewidth": 0,
             "ticks": ""
            },
            "colorscale": [
             [
              0,
              "#0d0887"
             ],
             [
              0.1111111111111111,
              "#46039f"
             ],
             [
              0.2222222222222222,
              "#7201a8"
             ],
             [
              0.3333333333333333,
              "#9c179e"
             ],
             [
              0.4444444444444444,
              "#bd3786"
             ],
             [
              0.5555555555555556,
              "#d8576b"
             ],
             [
              0.6666666666666666,
              "#ed7953"
             ],
             [
              0.7777777777777778,
              "#fb9f3a"
             ],
             [
              0.8888888888888888,
              "#fdca26"
             ],
             [
              1,
              "#f0f921"
             ]
            ],
            "type": "heatmap"
           }
          ],
          "heatmapgl": [
           {
            "colorbar": {
             "outlinewidth": 0,
             "ticks": ""
            },
            "colorscale": [
             [
              0,
              "#0d0887"
             ],
             [
              0.1111111111111111,
              "#46039f"
             ],
             [
              0.2222222222222222,
              "#7201a8"
             ],
             [
              0.3333333333333333,
              "#9c179e"
             ],
             [
              0.4444444444444444,
              "#bd3786"
             ],
             [
              0.5555555555555556,
              "#d8576b"
             ],
             [
              0.6666666666666666,
              "#ed7953"
             ],
             [
              0.7777777777777778,
              "#fb9f3a"
             ],
             [
              0.8888888888888888,
              "#fdca26"
             ],
             [
              1,
              "#f0f921"
             ]
            ],
            "type": "heatmapgl"
           }
          ],
          "histogram": [
           {
            "marker": {
             "pattern": {
              "fillmode": "overlay",
              "size": 10,
              "solidity": 0.2
             }
            },
            "type": "histogram"
           }
          ],
          "histogram2d": [
           {
            "colorbar": {
             "outlinewidth": 0,
             "ticks": ""
            },
            "colorscale": [
             [
              0,
              "#0d0887"
             ],
             [
              0.1111111111111111,
              "#46039f"
             ],
             [
              0.2222222222222222,
              "#7201a8"
             ],
             [
              0.3333333333333333,
              "#9c179e"
             ],
             [
              0.4444444444444444,
              "#bd3786"
             ],
             [
              0.5555555555555556,
              "#d8576b"
             ],
             [
              0.6666666666666666,
              "#ed7953"
             ],
             [
              0.7777777777777778,
              "#fb9f3a"
             ],
             [
              0.8888888888888888,
              "#fdca26"
             ],
             [
              1,
              "#f0f921"
             ]
            ],
            "type": "histogram2d"
           }
          ],
          "histogram2dcontour": [
           {
            "colorbar": {
             "outlinewidth": 0,
             "ticks": ""
            },
            "colorscale": [
             [
              0,
              "#0d0887"
             ],
             [
              0.1111111111111111,
              "#46039f"
             ],
             [
              0.2222222222222222,
              "#7201a8"
             ],
             [
              0.3333333333333333,
              "#9c179e"
             ],
             [
              0.4444444444444444,
              "#bd3786"
             ],
             [
              0.5555555555555556,
              "#d8576b"
             ],
             [
              0.6666666666666666,
              "#ed7953"
             ],
             [
              0.7777777777777778,
              "#fb9f3a"
             ],
             [
              0.8888888888888888,
              "#fdca26"
             ],
             [
              1,
              "#f0f921"
             ]
            ],
            "type": "histogram2dcontour"
           }
          ],
          "mesh3d": [
           {
            "colorbar": {
             "outlinewidth": 0,
             "ticks": ""
            },
            "type": "mesh3d"
           }
          ],
          "parcoords": [
           {
            "line": {
             "colorbar": {
              "outlinewidth": 0,
              "ticks": ""
             }
            },
            "type": "parcoords"
           }
          ],
          "pie": [
           {
            "automargin": true,
            "type": "pie"
           }
          ],
          "scatter": [
           {
            "fillpattern": {
             "fillmode": "overlay",
             "size": 10,
             "solidity": 0.2
            },
            "type": "scatter"
           }
          ],
          "scatter3d": [
           {
            "line": {
             "colorbar": {
              "outlinewidth": 0,
              "ticks": ""
             }
            },
            "marker": {
             "colorbar": {
              "outlinewidth": 0,
              "ticks": ""
             }
            },
            "type": "scatter3d"
           }
          ],
          "scattercarpet": [
           {
            "marker": {
             "colorbar": {
              "outlinewidth": 0,
              "ticks": ""
             }
            },
            "type": "scattercarpet"
           }
          ],
          "scattergeo": [
           {
            "marker": {
             "colorbar": {
              "outlinewidth": 0,
              "ticks": ""
             }
            },
            "type": "scattergeo"
           }
          ],
          "scattergl": [
           {
            "marker": {
             "colorbar": {
              "outlinewidth": 0,
              "ticks": ""
             }
            },
            "type": "scattergl"
           }
          ],
          "scattermapbox": [
           {
            "marker": {
             "colorbar": {
              "outlinewidth": 0,
              "ticks": ""
             }
            },
            "type": "scattermapbox"
           }
          ],
          "scatterpolar": [
           {
            "marker": {
             "colorbar": {
              "outlinewidth": 0,
              "ticks": ""
             }
            },
            "type": "scatterpolar"
           }
          ],
          "scatterpolargl": [
           {
            "marker": {
             "colorbar": {
              "outlinewidth": 0,
              "ticks": ""
             }
            },
            "type": "scatterpolargl"
           }
          ],
          "scatterternary": [
           {
            "marker": {
             "colorbar": {
              "outlinewidth": 0,
              "ticks": ""
             }
            },
            "type": "scatterternary"
           }
          ],
          "surface": [
           {
            "colorbar": {
             "outlinewidth": 0,
             "ticks": ""
            },
            "colorscale": [
             [
              0,
              "#0d0887"
             ],
             [
              0.1111111111111111,
              "#46039f"
             ],
             [
              0.2222222222222222,
              "#7201a8"
             ],
             [
              0.3333333333333333,
              "#9c179e"
             ],
             [
              0.4444444444444444,
              "#bd3786"
             ],
             [
              0.5555555555555556,
              "#d8576b"
             ],
             [
              0.6666666666666666,
              "#ed7953"
             ],
             [
              0.7777777777777778,
              "#fb9f3a"
             ],
             [
              0.8888888888888888,
              "#fdca26"
             ],
             [
              1,
              "#f0f921"
             ]
            ],
            "type": "surface"
           }
          ],
          "table": [
           {
            "cells": {
             "fill": {
              "color": "#EBF0F8"
             },
             "line": {
              "color": "white"
             }
            },
            "header": {
             "fill": {
              "color": "#C8D4E3"
             },
             "line": {
              "color": "white"
             }
            },
            "type": "table"
           }
          ]
         },
         "layout": {
          "annotationdefaults": {
           "arrowcolor": "#2a3f5f",
           "arrowhead": 0,
           "arrowwidth": 1
          },
          "autotypenumbers": "strict",
          "coloraxis": {
           "colorbar": {
            "outlinewidth": 0,
            "ticks": ""
           }
          },
          "colorscale": {
           "diverging": [
            [
             0,
             "#8e0152"
            ],
            [
             0.1,
             "#c51b7d"
            ],
            [
             0.2,
             "#de77ae"
            ],
            [
             0.3,
             "#f1b6da"
            ],
            [
             0.4,
             "#fde0ef"
            ],
            [
             0.5,
             "#f7f7f7"
            ],
            [
             0.6,
             "#e6f5d0"
            ],
            [
             0.7,
             "#b8e186"
            ],
            [
             0.8,
             "#7fbc41"
            ],
            [
             0.9,
             "#4d9221"
            ],
            [
             1,
             "#276419"
            ]
           ],
           "sequential": [
            [
             0,
             "#0d0887"
            ],
            [
             0.1111111111111111,
             "#46039f"
            ],
            [
             0.2222222222222222,
             "#7201a8"
            ],
            [
             0.3333333333333333,
             "#9c179e"
            ],
            [
             0.4444444444444444,
             "#bd3786"
            ],
            [
             0.5555555555555556,
             "#d8576b"
            ],
            [
             0.6666666666666666,
             "#ed7953"
            ],
            [
             0.7777777777777778,
             "#fb9f3a"
            ],
            [
             0.8888888888888888,
             "#fdca26"
            ],
            [
             1,
             "#f0f921"
            ]
           ],
           "sequentialminus": [
            [
             0,
             "#0d0887"
            ],
            [
             0.1111111111111111,
             "#46039f"
            ],
            [
             0.2222222222222222,
             "#7201a8"
            ],
            [
             0.3333333333333333,
             "#9c179e"
            ],
            [
             0.4444444444444444,
             "#bd3786"
            ],
            [
             0.5555555555555556,
             "#d8576b"
            ],
            [
             0.6666666666666666,
             "#ed7953"
            ],
            [
             0.7777777777777778,
             "#fb9f3a"
            ],
            [
             0.8888888888888888,
             "#fdca26"
            ],
            [
             1,
             "#f0f921"
            ]
           ]
          },
          "colorway": [
           "#636efa",
           "#EF553B",
           "#00cc96",
           "#ab63fa",
           "#FFA15A",
           "#19d3f3",
           "#FF6692",
           "#B6E880",
           "#FF97FF",
           "#FECB52"
          ],
          "font": {
           "color": "#2a3f5f"
          },
          "geo": {
           "bgcolor": "white",
           "lakecolor": "white",
           "landcolor": "#E5ECF6",
           "showlakes": true,
           "showland": true,
           "subunitcolor": "white"
          },
          "hoverlabel": {
           "align": "left"
          },
          "hovermode": "closest",
          "mapbox": {
           "style": "light"
          },
          "paper_bgcolor": "white",
          "plot_bgcolor": "#E5ECF6",
          "polar": {
           "angularaxis": {
            "gridcolor": "white",
            "linecolor": "white",
            "ticks": ""
           },
           "bgcolor": "#E5ECF6",
           "radialaxis": {
            "gridcolor": "white",
            "linecolor": "white",
            "ticks": ""
           }
          },
          "scene": {
           "xaxis": {
            "backgroundcolor": "#E5ECF6",
            "gridcolor": "white",
            "gridwidth": 2,
            "linecolor": "white",
            "showbackground": true,
            "ticks": "",
            "zerolinecolor": "white"
           },
           "yaxis": {
            "backgroundcolor": "#E5ECF6",
            "gridcolor": "white",
            "gridwidth": 2,
            "linecolor": "white",
            "showbackground": true,
            "ticks": "",
            "zerolinecolor": "white"
           },
           "zaxis": {
            "backgroundcolor": "#E5ECF6",
            "gridcolor": "white",
            "gridwidth": 2,
            "linecolor": "white",
            "showbackground": true,
            "ticks": "",
            "zerolinecolor": "white"
           }
          },
          "shapedefaults": {
           "line": {
            "color": "#2a3f5f"
           }
          },
          "ternary": {
           "aaxis": {
            "gridcolor": "white",
            "linecolor": "white",
            "ticks": ""
           },
           "baxis": {
            "gridcolor": "white",
            "linecolor": "white",
            "ticks": ""
           },
           "bgcolor": "#E5ECF6",
           "caxis": {
            "gridcolor": "white",
            "linecolor": "white",
            "ticks": ""
           }
          },
          "title": {
           "x": 0.05
          },
          "xaxis": {
           "automargin": true,
           "gridcolor": "white",
           "linecolor": "white",
           "ticks": "",
           "title": {
            "standoff": 15
           },
           "zerolinecolor": "white",
           "zerolinewidth": 2
          },
          "yaxis": {
           "automargin": true,
           "gridcolor": "white",
           "linecolor": "white",
           "ticks": "",
           "title": {
            "standoff": 15
           },
           "zerolinecolor": "white",
           "zerolinewidth": 2
          }
         }
        },
        "title": {
         "text": "Support vs Confidence vs Lift for Top 15 Association Rules"
        },
        "width": 1100,
        "xaxis": {
         "anchor": "y",
         "domain": [
          0,
          1
         ],
         "title": {
          "text": "Support"
         }
        },
        "yaxis": {
         "anchor": "x",
         "domain": [
          0,
          1
         ],
         "title": {
          "text": "Confidence"
         }
        }
       }
      }
     },
     "metadata": {},
     "output_type": "display_data"
    }
   ],
   "source": [
    "# Plotly for support vs confidence vs lift\n",
    "fig = px.scatter(top_rules, x='support', y='confidence', size='lift', color='lift', hover_data=['antecedents', 'consequents'],\n",
    "                 title='Support vs Confidence vs Lift for Top 15 Association Rules', labels={\n",
    "                     \"support\": \"Support\",\n",
    "                     \"confidence\": \"Confidence\",\n",
    "                     \"lift\": \"Lift\"\n",
    "                 })\n",
    "# note for user to hover over points\n",
    "fig.add_annotation(\n",
    "    text=\"Hover over points to see itemset information\",\n",
    "    xref=\"paper\", yref=\"paper\",\n",
    "    x=0.5, y=1.05, showarrow=False,\n",
    "    font=dict(size=12, color=\"black\")\n",
    ")\n",
    "\n",
    "fig.update_layout(width=1100, height=900)\n",
    "fig.update_traces(marker=dict(line=dict(width=1, color='DarkSlateGrey')))\n",
    "fig.show()"
   ]
  },
  {
   "cell_type": "markdown",
   "metadata": {},
   "source": [
    "## Ejercicio 1.4 Modifique los hyperparámetros de APRIORI\n",
    "\n",
    "En base al código del ejercicio anterior, leer la documentación de las funciones `apriori` y `association_rules`. Posteriormente, modifique los parámetros de `min_support` de la función `apriori` y los parámetros `metric` y `min_threshold` de la función `association_rules`. Analice y comente los resultados."
   ]
  },
  {
   "cell_type": "code",
   "execution_count": 11,
   "metadata": {},
   "outputs": [],
   "source": [
    "# inserte su código aquí\n",
    "\n"
   ]
  }
 ],
 "metadata": {
  "kernelspec": {
   "display_name": "base",
   "language": "python",
   "name": "python3"
  },
  "language_info": {
   "codemirror_mode": {
    "name": "ipython",
    "version": 3
   },
   "file_extension": ".py",
   "mimetype": "text/x-python",
   "name": "python",
   "nbconvert_exporter": "python",
   "pygments_lexer": "ipython3",
   "version": "3.12.4"
  }
 },
 "nbformat": 4,
 "nbformat_minor": 2
}
